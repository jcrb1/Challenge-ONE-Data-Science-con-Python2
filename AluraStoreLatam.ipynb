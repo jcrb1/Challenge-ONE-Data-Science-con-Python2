{
  "nbformat": 4,
  "nbformat_minor": 0,
  "metadata": {
    "colab": {
      "provenance": []
    },
    "kernelspec": {
      "name": "python3",
      "display_name": "Python 3"
    },
    "language_info": {
      "name": "python"
    }
  },
  "cells": [
    {
      "cell_type": "markdown",
      "source": [
        "### Importación de datos\n",
        "\n"
      ],
      "metadata": {
        "id": "RhEdWd9YUR6H"
      }
    },
    {
      "cell_type": "code",
      "execution_count": null,
      "metadata": {
        "colab": {
          "base_uri": "https://localhost:8080/",
          "height": 310
        },
        "id": "T3EvaeQ_INIL",
        "outputId": "b1a7f5a2-bb86-4e90-b541-046a4f48819f"
      },
      "outputs": [
        {
          "output_type": "execute_result",
          "data": {
            "text/plain": [
              "            Producto Categoría del Producto    Precio  Costo de envío  \\\n",
              "0  Asistente virtual           Electrónicos  164300.0          6900.0   \n",
              "1    Mesa de comedor                Muebles  192300.0          8400.0   \n",
              "2      Juego de mesa               Juguetes  209600.0         15900.0   \n",
              "3         Microondas      Electrodomésticos  757500.0         41000.0   \n",
              "4   Silla de oficina                Muebles  335200.0         20200.0   \n",
              "\n",
              "  Fecha de Compra         Vendedor Lugar de Compra  Calificación  \\\n",
              "0      16/01/2021      Pedro Gomez          Bogotá             4   \n",
              "1      18/05/2022  Beatriz Morales        Medellín             1   \n",
              "2      15/03/2021   Juan Fernandez       Cartagena             1   \n",
              "3      03/05/2022   Juan Fernandez            Cali             4   \n",
              "4      07/11/2020    Maria Alfonso        Medellín             5   \n",
              "\n",
              "       Método de pago  Cantidad de cuotas       lat       lon  \n",
              "0  Tarjeta de crédito                   8   4.60971 -74.08175  \n",
              "1  Tarjeta de crédito                   4   6.25184 -75.56359  \n",
              "2  Tarjeta de crédito                   1  10.39972 -75.51444  \n",
              "3               Nequi                   1   3.43722 -76.52250  \n",
              "4               Nequi                   1   6.25184 -75.56359  "
            ],
            "text/html": [
              "\n",
              "  <div id=\"df-022d48d7-6e84-44cc-aa85-2359e7d83fab\" class=\"colab-df-container\">\n",
              "    <div>\n",
              "<style scoped>\n",
              "    .dataframe tbody tr th:only-of-type {\n",
              "        vertical-align: middle;\n",
              "    }\n",
              "\n",
              "    .dataframe tbody tr th {\n",
              "        vertical-align: top;\n",
              "    }\n",
              "\n",
              "    .dataframe thead th {\n",
              "        text-align: right;\n",
              "    }\n",
              "</style>\n",
              "<table border=\"1\" class=\"dataframe\">\n",
              "  <thead>\n",
              "    <tr style=\"text-align: right;\">\n",
              "      <th></th>\n",
              "      <th>Producto</th>\n",
              "      <th>Categoría del Producto</th>\n",
              "      <th>Precio</th>\n",
              "      <th>Costo de envío</th>\n",
              "      <th>Fecha de Compra</th>\n",
              "      <th>Vendedor</th>\n",
              "      <th>Lugar de Compra</th>\n",
              "      <th>Calificación</th>\n",
              "      <th>Método de pago</th>\n",
              "      <th>Cantidad de cuotas</th>\n",
              "      <th>lat</th>\n",
              "      <th>lon</th>\n",
              "    </tr>\n",
              "  </thead>\n",
              "  <tbody>\n",
              "    <tr>\n",
              "      <th>0</th>\n",
              "      <td>Asistente virtual</td>\n",
              "      <td>Electrónicos</td>\n",
              "      <td>164300.0</td>\n",
              "      <td>6900.0</td>\n",
              "      <td>16/01/2021</td>\n",
              "      <td>Pedro Gomez</td>\n",
              "      <td>Bogotá</td>\n",
              "      <td>4</td>\n",
              "      <td>Tarjeta de crédito</td>\n",
              "      <td>8</td>\n",
              "      <td>4.60971</td>\n",
              "      <td>-74.08175</td>\n",
              "    </tr>\n",
              "    <tr>\n",
              "      <th>1</th>\n",
              "      <td>Mesa de comedor</td>\n",
              "      <td>Muebles</td>\n",
              "      <td>192300.0</td>\n",
              "      <td>8400.0</td>\n",
              "      <td>18/05/2022</td>\n",
              "      <td>Beatriz Morales</td>\n",
              "      <td>Medellín</td>\n",
              "      <td>1</td>\n",
              "      <td>Tarjeta de crédito</td>\n",
              "      <td>4</td>\n",
              "      <td>6.25184</td>\n",
              "      <td>-75.56359</td>\n",
              "    </tr>\n",
              "    <tr>\n",
              "      <th>2</th>\n",
              "      <td>Juego de mesa</td>\n",
              "      <td>Juguetes</td>\n",
              "      <td>209600.0</td>\n",
              "      <td>15900.0</td>\n",
              "      <td>15/03/2021</td>\n",
              "      <td>Juan Fernandez</td>\n",
              "      <td>Cartagena</td>\n",
              "      <td>1</td>\n",
              "      <td>Tarjeta de crédito</td>\n",
              "      <td>1</td>\n",
              "      <td>10.39972</td>\n",
              "      <td>-75.51444</td>\n",
              "    </tr>\n",
              "    <tr>\n",
              "      <th>3</th>\n",
              "      <td>Microondas</td>\n",
              "      <td>Electrodomésticos</td>\n",
              "      <td>757500.0</td>\n",
              "      <td>41000.0</td>\n",
              "      <td>03/05/2022</td>\n",
              "      <td>Juan Fernandez</td>\n",
              "      <td>Cali</td>\n",
              "      <td>4</td>\n",
              "      <td>Nequi</td>\n",
              "      <td>1</td>\n",
              "      <td>3.43722</td>\n",
              "      <td>-76.52250</td>\n",
              "    </tr>\n",
              "    <tr>\n",
              "      <th>4</th>\n",
              "      <td>Silla de oficina</td>\n",
              "      <td>Muebles</td>\n",
              "      <td>335200.0</td>\n",
              "      <td>20200.0</td>\n",
              "      <td>07/11/2020</td>\n",
              "      <td>Maria Alfonso</td>\n",
              "      <td>Medellín</td>\n",
              "      <td>5</td>\n",
              "      <td>Nequi</td>\n",
              "      <td>1</td>\n",
              "      <td>6.25184</td>\n",
              "      <td>-75.56359</td>\n",
              "    </tr>\n",
              "  </tbody>\n",
              "</table>\n",
              "</div>\n",
              "    <div class=\"colab-df-buttons\">\n",
              "\n",
              "  <div class=\"colab-df-container\">\n",
              "    <button class=\"colab-df-convert\" onclick=\"convertToInteractive('df-022d48d7-6e84-44cc-aa85-2359e7d83fab')\"\n",
              "            title=\"Convert this dataframe to an interactive table.\"\n",
              "            style=\"display:none;\">\n",
              "\n",
              "  <svg xmlns=\"http://www.w3.org/2000/svg\" height=\"24px\" viewBox=\"0 -960 960 960\">\n",
              "    <path d=\"M120-120v-720h720v720H120Zm60-500h600v-160H180v160Zm220 220h160v-160H400v160Zm0 220h160v-160H400v160ZM180-400h160v-160H180v160Zm440 0h160v-160H620v160ZM180-180h160v-160H180v160Zm440 0h160v-160H620v160Z\"/>\n",
              "  </svg>\n",
              "    </button>\n",
              "\n",
              "  <style>\n",
              "    .colab-df-container {\n",
              "      display:flex;\n",
              "      gap: 12px;\n",
              "    }\n",
              "\n",
              "    .colab-df-convert {\n",
              "      background-color: #E8F0FE;\n",
              "      border: none;\n",
              "      border-radius: 50%;\n",
              "      cursor: pointer;\n",
              "      display: none;\n",
              "      fill: #1967D2;\n",
              "      height: 32px;\n",
              "      padding: 0 0 0 0;\n",
              "      width: 32px;\n",
              "    }\n",
              "\n",
              "    .colab-df-convert:hover {\n",
              "      background-color: #E2EBFA;\n",
              "      box-shadow: 0px 1px 2px rgba(60, 64, 67, 0.3), 0px 1px 3px 1px rgba(60, 64, 67, 0.15);\n",
              "      fill: #174EA6;\n",
              "    }\n",
              "\n",
              "    .colab-df-buttons div {\n",
              "      margin-bottom: 4px;\n",
              "    }\n",
              "\n",
              "    [theme=dark] .colab-df-convert {\n",
              "      background-color: #3B4455;\n",
              "      fill: #D2E3FC;\n",
              "    }\n",
              "\n",
              "    [theme=dark] .colab-df-convert:hover {\n",
              "      background-color: #434B5C;\n",
              "      box-shadow: 0px 1px 3px 1px rgba(0, 0, 0, 0.15);\n",
              "      filter: drop-shadow(0px 1px 2px rgba(0, 0, 0, 0.3));\n",
              "      fill: #FFFFFF;\n",
              "    }\n",
              "  </style>\n",
              "\n",
              "    <script>\n",
              "      const buttonEl =\n",
              "        document.querySelector('#df-022d48d7-6e84-44cc-aa85-2359e7d83fab button.colab-df-convert');\n",
              "      buttonEl.style.display =\n",
              "        google.colab.kernel.accessAllowed ? 'block' : 'none';\n",
              "\n",
              "      async function convertToInteractive(key) {\n",
              "        const element = document.querySelector('#df-022d48d7-6e84-44cc-aa85-2359e7d83fab');\n",
              "        const dataTable =\n",
              "          await google.colab.kernel.invokeFunction('convertToInteractive',\n",
              "                                                    [key], {});\n",
              "        if (!dataTable) return;\n",
              "\n",
              "        const docLinkHtml = 'Like what you see? Visit the ' +\n",
              "          '<a target=\"_blank\" href=https://colab.research.google.com/notebooks/data_table.ipynb>data table notebook</a>'\n",
              "          + ' to learn more about interactive tables.';\n",
              "        element.innerHTML = '';\n",
              "        dataTable['output_type'] = 'display_data';\n",
              "        await google.colab.output.renderOutput(dataTable, element);\n",
              "        const docLink = document.createElement('div');\n",
              "        docLink.innerHTML = docLinkHtml;\n",
              "        element.appendChild(docLink);\n",
              "      }\n",
              "    </script>\n",
              "  </div>\n",
              "\n",
              "\n",
              "<div id=\"df-99ef341b-5075-4b30-b5ea-74aa36ae4cc8\">\n",
              "  <button class=\"colab-df-quickchart\" onclick=\"quickchart('df-99ef341b-5075-4b30-b5ea-74aa36ae4cc8')\"\n",
              "            title=\"Suggest charts\"\n",
              "            style=\"display:none;\">\n",
              "\n",
              "<svg xmlns=\"http://www.w3.org/2000/svg\" height=\"24px\"viewBox=\"0 0 24 24\"\n",
              "     width=\"24px\">\n",
              "    <g>\n",
              "        <path d=\"M19 3H5c-1.1 0-2 .9-2 2v14c0 1.1.9 2 2 2h14c1.1 0 2-.9 2-2V5c0-1.1-.9-2-2-2zM9 17H7v-7h2v7zm4 0h-2V7h2v10zm4 0h-2v-4h2v4z\"/>\n",
              "    </g>\n",
              "</svg>\n",
              "  </button>\n",
              "\n",
              "<style>\n",
              "  .colab-df-quickchart {\n",
              "      --bg-color: #E8F0FE;\n",
              "      --fill-color: #1967D2;\n",
              "      --hover-bg-color: #E2EBFA;\n",
              "      --hover-fill-color: #174EA6;\n",
              "      --disabled-fill-color: #AAA;\n",
              "      --disabled-bg-color: #DDD;\n",
              "  }\n",
              "\n",
              "  [theme=dark] .colab-df-quickchart {\n",
              "      --bg-color: #3B4455;\n",
              "      --fill-color: #D2E3FC;\n",
              "      --hover-bg-color: #434B5C;\n",
              "      --hover-fill-color: #FFFFFF;\n",
              "      --disabled-bg-color: #3B4455;\n",
              "      --disabled-fill-color: #666;\n",
              "  }\n",
              "\n",
              "  .colab-df-quickchart {\n",
              "    background-color: var(--bg-color);\n",
              "    border: none;\n",
              "    border-radius: 50%;\n",
              "    cursor: pointer;\n",
              "    display: none;\n",
              "    fill: var(--fill-color);\n",
              "    height: 32px;\n",
              "    padding: 0;\n",
              "    width: 32px;\n",
              "  }\n",
              "\n",
              "  .colab-df-quickchart:hover {\n",
              "    background-color: var(--hover-bg-color);\n",
              "    box-shadow: 0 1px 2px rgba(60, 64, 67, 0.3), 0 1px 3px 1px rgba(60, 64, 67, 0.15);\n",
              "    fill: var(--button-hover-fill-color);\n",
              "  }\n",
              "\n",
              "  .colab-df-quickchart-complete:disabled,\n",
              "  .colab-df-quickchart-complete:disabled:hover {\n",
              "    background-color: var(--disabled-bg-color);\n",
              "    fill: var(--disabled-fill-color);\n",
              "    box-shadow: none;\n",
              "  }\n",
              "\n",
              "  .colab-df-spinner {\n",
              "    border: 2px solid var(--fill-color);\n",
              "    border-color: transparent;\n",
              "    border-bottom-color: var(--fill-color);\n",
              "    animation:\n",
              "      spin 1s steps(1) infinite;\n",
              "  }\n",
              "\n",
              "  @keyframes spin {\n",
              "    0% {\n",
              "      border-color: transparent;\n",
              "      border-bottom-color: var(--fill-color);\n",
              "      border-left-color: var(--fill-color);\n",
              "    }\n",
              "    20% {\n",
              "      border-color: transparent;\n",
              "      border-left-color: var(--fill-color);\n",
              "      border-top-color: var(--fill-color);\n",
              "    }\n",
              "    30% {\n",
              "      border-color: transparent;\n",
              "      border-left-color: var(--fill-color);\n",
              "      border-top-color: var(--fill-color);\n",
              "      border-right-color: var(--fill-color);\n",
              "    }\n",
              "    40% {\n",
              "      border-color: transparent;\n",
              "      border-right-color: var(--fill-color);\n",
              "      border-top-color: var(--fill-color);\n",
              "    }\n",
              "    60% {\n",
              "      border-color: transparent;\n",
              "      border-right-color: var(--fill-color);\n",
              "    }\n",
              "    80% {\n",
              "      border-color: transparent;\n",
              "      border-right-color: var(--fill-color);\n",
              "      border-bottom-color: var(--fill-color);\n",
              "    }\n",
              "    90% {\n",
              "      border-color: transparent;\n",
              "      border-bottom-color: var(--fill-color);\n",
              "    }\n",
              "  }\n",
              "</style>\n",
              "\n",
              "  <script>\n",
              "    async function quickchart(key) {\n",
              "      const quickchartButtonEl =\n",
              "        document.querySelector('#' + key + ' button');\n",
              "      quickchartButtonEl.disabled = true;  // To prevent multiple clicks.\n",
              "      quickchartButtonEl.classList.add('colab-df-spinner');\n",
              "      try {\n",
              "        const charts = await google.colab.kernel.invokeFunction(\n",
              "            'suggestCharts', [key], {});\n",
              "      } catch (error) {\n",
              "        console.error('Error during call to suggestCharts:', error);\n",
              "      }\n",
              "      quickchartButtonEl.classList.remove('colab-df-spinner');\n",
              "      quickchartButtonEl.classList.add('colab-df-quickchart-complete');\n",
              "    }\n",
              "    (() => {\n",
              "      let quickchartButtonEl =\n",
              "        document.querySelector('#df-99ef341b-5075-4b30-b5ea-74aa36ae4cc8 button');\n",
              "      quickchartButtonEl.style.display =\n",
              "        google.colab.kernel.accessAllowed ? 'block' : 'none';\n",
              "    })();\n",
              "  </script>\n",
              "</div>\n",
              "\n",
              "    </div>\n",
              "  </div>\n"
            ],
            "application/vnd.google.colaboratory.intrinsic+json": {
              "type": "dataframe",
              "variable_name": "tienda",
              "summary": "{\n  \"name\": \"tienda\",\n  \"rows\": 2359,\n  \"fields\": [\n    {\n      \"column\": \"Producto\",\n      \"properties\": {\n        \"dtype\": \"category\",\n        \"num_unique_values\": 51,\n        \"samples\": [\n          \"Guitarra ac\\u00fastica\",\n          \"Bal\\u00f3n de baloncesto\",\n          \"Smartwatch\"\n        ],\n        \"semantic_type\": \"\",\n        \"description\": \"\"\n      }\n    },\n    {\n      \"column\": \"Categor\\u00eda del Producto\",\n      \"properties\": {\n        \"dtype\": \"category\",\n        \"num_unique_values\": 8,\n        \"samples\": [\n          \"Muebles\",\n          \"Deportes y diversi\\u00f3n\",\n          \"Electr\\u00f3nicos\"\n        ],\n        \"semantic_type\": \"\",\n        \"description\": \"\"\n      }\n    },\n    {\n      \"column\": \"Precio\",\n      \"properties\": {\n        \"dtype\": \"number\",\n        \"std\": 614686.7653873172,\n        \"min\": 7600.0,\n        \"max\": 2977000.0,\n        \"num_unique_values\": 1937,\n        \"samples\": [\n          2499400.0,\n          14800.0,\n          80500.0\n        ],\n        \"semantic_type\": \"\",\n        \"description\": \"\"\n      }\n    },\n    {\n      \"column\": \"Costo de env\\u00edo\",\n      \"properties\": {\n        \"dtype\": \"number\",\n        \"std\": 32860.0017825605,\n        \"min\": 0.0,\n        \"max\": 160800.0,\n        \"num_unique_values\": 753,\n        \"samples\": [\n          117800.0,\n          54700.0,\n          45600.0\n        ],\n        \"semantic_type\": \"\",\n        \"description\": \"\"\n      }\n    },\n    {\n      \"column\": \"Fecha de Compra\",\n      \"properties\": {\n        \"dtype\": \"object\",\n        \"num_unique_values\": 1018,\n        \"samples\": [\n          \"15/09/2022\",\n          \"03/06/2020\",\n          \"06/11/2021\"\n        ],\n        \"semantic_type\": \"\",\n        \"description\": \"\"\n      }\n    },\n    {\n      \"column\": \"Vendedor\",\n      \"properties\": {\n        \"dtype\": \"category\",\n        \"num_unique_values\": 14,\n        \"samples\": [\n          \"Juliana Costa\",\n          \"Mariana Herrera\",\n          \"Pedro Gomez\"\n        ],\n        \"semantic_type\": \"\",\n        \"description\": \"\"\n      }\n    },\n    {\n      \"column\": \"Lugar de Compra\",\n      \"properties\": {\n        \"dtype\": \"category\",\n        \"num_unique_values\": 19,\n        \"samples\": [\n          \"Bogot\\u00e1\",\n          \"Pereira\",\n          \"Neiva\"\n        ],\n        \"semantic_type\": \"\",\n        \"description\": \"\"\n      }\n    },\n    {\n      \"column\": \"Calificaci\\u00f3n\",\n      \"properties\": {\n        \"dtype\": \"number\",\n        \"std\": 1,\n        \"min\": 1,\n        \"max\": 5,\n        \"num_unique_values\": 5,\n        \"samples\": [\n          1,\n          2,\n          5\n        ],\n        \"semantic_type\": \"\",\n        \"description\": \"\"\n      }\n    },\n    {\n      \"column\": \"M\\u00e9todo de pago\",\n      \"properties\": {\n        \"dtype\": \"category\",\n        \"num_unique_values\": 4,\n        \"samples\": [\n          \"Nequi\",\n          \"Tarjeta de d\\u00e9bito\",\n          \"Tarjeta de cr\\u00e9dito\"\n        ],\n        \"semantic_type\": \"\",\n        \"description\": \"\"\n      }\n    },\n    {\n      \"column\": \"Cantidad de cuotas\",\n      \"properties\": {\n        \"dtype\": \"number\",\n        \"std\": 2,\n        \"min\": 1,\n        \"max\": 24,\n        \"num_unique_values\": 15,\n        \"samples\": [\n          7,\n          14,\n          8\n        ],\n        \"semantic_type\": \"\",\n        \"description\": \"\"\n      }\n    },\n    {\n      \"column\": \"lat\",\n      \"properties\": {\n        \"dtype\": \"number\",\n        \"std\": 2.2874452492678627,\n        \"min\": -4.21528,\n        \"max\": 11.54444,\n        \"num_unique_values\": 19,\n        \"samples\": [\n          4.60971,\n          4.81333,\n          2.9273\n        ],\n        \"semantic_type\": \"\",\n        \"description\": \"\"\n      }\n    },\n    {\n      \"column\": \"lon\",\n      \"properties\": {\n        \"dtype\": \"number\",\n        \"std\": 1.2178272727088486,\n        \"min\": -77.28111,\n        \"max\": -67.9239,\n        \"num_unique_values\": 19,\n        \"samples\": [\n          -74.08175,\n          -75.69611,\n          -75.28189\n        ],\n        \"semantic_type\": \"\",\n        \"description\": \"\"\n      }\n    }\n  ]\n}"
            }
          },
          "metadata": {},
          "execution_count": 15
        }
      ],
      "source": [
        "import pandas as pd\n",
        "\n",
        "url = \"https://raw.githubusercontent.com/alura-es-cursos/challenge1-data-science-latam/refs/heads/main/base-de-datos-challenge1-latam/tienda_1%20.csv\"\n",
        "url2 = \"https://raw.githubusercontent.com/alura-es-cursos/challenge1-data-science-latam/refs/heads/main/base-de-datos-challenge1-latam/tienda_2.csv\"\n",
        "url3 = \"https://raw.githubusercontent.com/alura-es-cursos/challenge1-data-science-latam/refs/heads/main/base-de-datos-challenge1-latam/tienda_3.csv\"\n",
        "url4 = \"https://raw.githubusercontent.com/alura-es-cursos/challenge1-data-science-latam/refs/heads/main/base-de-datos-challenge1-latam/tienda_4.csv\"\n",
        "\n",
        "tienda = pd.read_csv(url)\n",
        "tienda2 = pd.read_csv(url2)\n",
        "tienda3 = pd.read_csv(url3)\n",
        "tienda4 = pd.read_csv(url4)\n",
        "\n",
        "tienda.head()"
      ]
    },
    {
      "cell_type": "markdown",
      "source": [
        "#1. Análisis de facturación\n",
        "\n"
      ],
      "metadata": {
        "id": "X62IW3KFUIYm"
      }
    },
    {
      "cell_type": "code",
      "source": [
        "#Ingresos totales de cada tienda\n",
        "ingresoTotal = {\n",
        "    \"Tienda 1\": tienda[\"Precio\"].sum(),\n",
        "    \"Tienda 2\": tienda2[\"Precio\"].sum(),\n",
        "    \"Tienda 3\": tienda3[\"Precio\"].sum(),\n",
        "    \"Tienda 4\": tienda4[\"Precio\"].sum()\n",
        "}"
      ],
      "metadata": {
        "id": "xykobSftV64I"
      },
      "execution_count": null,
      "outputs": []
    },
    {
      "cell_type": "code",
      "source": [
        "#Mandar a mostrar todos los ingresos por tienda\n",
        "print(\"Ingreso Total por Cada Tienda:\\n\")\n",
        "for tienda, ingreso in ingresoTotal.items():\n",
        "  print(f\"{tienda}: ${ingreso:,.2f}\")"
      ],
      "metadata": {
        "id": "KDyr8E71V3m-",
        "colab": {
          "base_uri": "https://localhost:8080/"
        },
        "outputId": "908a95e3-b41c-4ad3-c6e3-e28bf8f878ae"
      },
      "execution_count": null,
      "outputs": [
        {
          "output_type": "stream",
          "name": "stdout",
          "text": [
            "Ingreso Total por Cada Tienda:\n",
            "\n",
            "Tienda 1: $1,150,880,400.00\n",
            "Tienda 2: $1,116,343,500.00\n",
            "Tienda 3: $1,098,019,600.00\n",
            "Tienda 4: $1,038,375,700.00\n"
          ]
        }
      ]
    },
    {
      "cell_type": "markdown",
      "source": [
        "# 2. Ventas por categoría"
      ],
      "metadata": {
        "id": "2V_vcAPzWZmR"
      }
    },
    {
      "cell_type": "code",
      "source": [
        "#Contar los productos por cada categoría\n",
        "def ventasCategoria(df, nombreTienda):\n",
        "    conteo = df[\"Categoría del Producto\"].value_counts()\n",
        "    print(f\"\\n {nombreTienda} - Categorías más populares:\\n\")\n",
        "    print(conteo)\n",
        "    print(\"-\" * 40)"
      ],
      "metadata": {
        "id": "A34YupIuYhfF"
      },
      "execution_count": null,
      "outputs": []
    },
    {
      "cell_type": "code",
      "source": [
        "#Mandar a mostrar las categorias por cada tienda\n",
        "ventasCategoria(tienda, \"Tienda 1\")\n",
        "ventasCategoria(tienda2, \"Tienda 2\")\n",
        "ventasCategoria(tienda3, \"Tienda 3\")\n",
        "ventasCategoria(tienda4, \"Tienda 4\")"
      ],
      "metadata": {
        "id": "yZR6cOjXYSk1",
        "colab": {
          "base_uri": "https://localhost:8080/"
        },
        "outputId": "9c6a01fe-dc1d-4573-b9f4-4f4129bcbe97"
      },
      "execution_count": null,
      "outputs": [
        {
          "output_type": "stream",
          "name": "stdout",
          "text": [
            "\n",
            " Tienda 1 - Categorías más populares:\n",
            "\n",
            "Categoría del Producto\n",
            "Muebles                    465\n",
            "Electrónicos               448\n",
            "Juguetes                   324\n",
            "Electrodomésticos          312\n",
            "Deportes y diversión       284\n",
            "Instrumentos musicales     182\n",
            "Libros                     173\n",
            "Artículos para el hogar    171\n",
            "Name: count, dtype: int64\n",
            "----------------------------------------\n",
            "\n",
            " Tienda 2 - Categorías más populares:\n",
            "\n",
            "Categoría del Producto\n",
            "Muebles                    442\n",
            "Electrónicos               422\n",
            "Juguetes                   313\n",
            "Electrodomésticos          305\n",
            "Deportes y diversión       275\n",
            "Instrumentos musicales     224\n",
            "Libros                     197\n",
            "Artículos para el hogar    181\n",
            "Name: count, dtype: int64\n",
            "----------------------------------------\n",
            "\n",
            " Tienda 3 - Categorías más populares:\n",
            "\n",
            "Categoría del Producto\n",
            "Muebles                    499\n",
            "Electrónicos               451\n",
            "Juguetes                   315\n",
            "Electrodomésticos          278\n",
            "Deportes y diversión       277\n",
            "Libros                     185\n",
            "Instrumentos musicales     177\n",
            "Artículos para el hogar    177\n",
            "Name: count, dtype: int64\n",
            "----------------------------------------\n",
            "\n",
            " Tienda 4 - Categorías más populares:\n",
            "\n",
            "Categoría del Producto\n",
            "Muebles                    480\n",
            "Electrónicos               451\n",
            "Juguetes                   338\n",
            "Deportes y diversión       277\n",
            "Electrodomésticos          254\n",
            "Artículos para el hogar    201\n",
            "Libros                     187\n",
            "Instrumentos musicales     170\n",
            "Name: count, dtype: int64\n",
            "----------------------------------------\n"
          ]
        }
      ]
    },
    {
      "cell_type": "markdown",
      "source": [
        "# 3. Calificación promedio de la tienda\n"
      ],
      "metadata": {
        "id": "Rq6tU_xSY3jk"
      }
    },
    {
      "cell_type": "code",
      "source": [
        "#Calcular calificación promedio de los clientes\n",
        "calificacionesClientes = {\n",
        "    \"Tienda 1\": tienda[\"Calificación\"].mean(),\n",
        "    \"Tienda 2\": tienda2[\"Calificación\"].mean(),\n",
        "    \"Tienda 3\": tienda3[\"Calificación\"].mean(),\n",
        "    \"Tienda 4\": tienda4[\"Calificación\"].mean()\n",
        "}"
      ],
      "metadata": {
        "id": "bh3jjjJwY5MU"
      },
      "execution_count": null,
      "outputs": []
    },
    {
      "cell_type": "code",
      "source": [
        "# Mostrar resultados de las calificaciones por tienda\n",
        "print(\"Calificación promedio de clientes por tienda:\\n\")\n",
        "for tienda, calificacion in calificacionesClientes.items():\n",
        "    print(f'{tienda}: {calificacion:.2f} estrellas')\n"
      ],
      "metadata": {
        "id": "I0KkjPoTY88F",
        "colab": {
          "base_uri": "https://localhost:8080/"
        },
        "outputId": "b901d636-e480-484a-e1ed-0ad26779fd4f"
      },
      "execution_count": null,
      "outputs": [
        {
          "output_type": "stream",
          "name": "stdout",
          "text": [
            "Calificación promedio de clientes por tienda:\n",
            "\n",
            "Tienda 1: 3.98 estrellas\n",
            "Tienda 2: 4.04 estrellas\n",
            "Tienda 3: 4.05 estrellas\n",
            "Tienda 4: 4.00 estrellas\n"
          ]
        }
      ]
    },
    {
      "cell_type": "markdown",
      "source": [
        "# 4. Productos más y menos vendidos"
      ],
      "metadata": {
        "id": "DmNp1KPBZCm-"
      }
    },
    {
      "cell_type": "code",
      "source": [
        "#Productos más vendidos y menos vendido por cada tienda\n",
        "def analisisProducto(df, nombreTienda):\n",
        "    conteo = df[\"Producto\"].value_counts()\n",
        "    masVendidos = conteo.idxmax()\n",
        "    menosVendidos = conteo.idxmin()\n",
        "    print(f\"\\n{nombreTienda}\")\n",
        "    print(f\"Producto más vendido: {masVendidos} ({conteo.max()} ventas)\")\n",
        "    print(f\"Producto menos vendido: {menosVendidos} ({conteo.min()} ventas)\")\n"
      ],
      "metadata": {
        "id": "qoyjqijQZHfF"
      },
      "execution_count": null,
      "outputs": []
    },
    {
      "cell_type": "code",
      "source": [
        "#Mostrar producto mas vendido y menos vendido por cada tienda\n",
        "analisisProducto(tienda, \"Tienda 1\")\n",
        "analisisProducto(tienda2, \"Tienda 2\")\n",
        "analisisProducto(tienda3, \"Tienda 3\")\n",
        "analisisProducto(tienda4, \"Tienda 4\")"
      ],
      "metadata": {
        "id": "0Sw3sd4IZIGW",
        "colab": {
          "base_uri": "https://localhost:8080/"
        },
        "outputId": "4340a87c-ef1c-4b58-9f68-22920bfb57e5"
      },
      "execution_count": null,
      "outputs": [
        {
          "output_type": "stream",
          "name": "stdout",
          "text": [
            "\n",
            "Tienda 1\n",
            "Producto más vendido: Microondas (60 ventas)\n",
            "Producto menos vendido: Auriculares con micrófono (33 ventas)\n",
            "\n",
            "Tienda 2\n",
            "Producto más vendido: Iniciando en programación (65 ventas)\n",
            "Producto menos vendido: Juego de mesa (32 ventas)\n",
            "\n",
            "Tienda 3\n",
            "Producto más vendido: Kit de bancas (57 ventas)\n",
            "Producto menos vendido: Bloques de construcción (35 ventas)\n",
            "\n",
            "Tienda 4\n",
            "Producto más vendido: Cama box (62 ventas)\n",
            "Producto menos vendido: Guitarra eléctrica (33 ventas)\n"
          ]
        }
      ]
    },
    {
      "cell_type": "markdown",
      "source": [
        "# 5. Envío promedio por tienda"
      ],
      "metadata": {
        "id": "Fl0cGi3bZKqU"
      }
    },
    {
      "cell_type": "code",
      "source": [
        "#Calcular el promedio de envío por cada tiempo\n",
        "costoEnvio = {\n",
        "    \"Tienda 1\": tienda[\"Costo de envío\"].mean(),\n",
        "    \"Tienda 2\": tienda2[\"Costo de envío\"].mean(),\n",
        "    \"Tienda 3\": tienda3[\"Costo de envío\"].mean(),\n",
        "    \"Tienda 4\": tienda4[\"Costo de envío\"].mean()\n",
        "}"
      ],
      "metadata": {
        "id": "S2JeaCykZNy9"
      },
      "execution_count": null,
      "outputs": []
    },
    {
      "cell_type": "code",
      "source": [
        "# Mostrar resultados del promedio de envío por tienda\n",
        "for tienda, promedio in costoEnvio.items():\n",
        "    print(f\"Costo de envío promedio - {tienda}: ${promedio:.2f}\")"
      ],
      "metadata": {
        "id": "0tSdCie9ZQlt",
        "colab": {
          "base_uri": "https://localhost:8080/"
        },
        "outputId": "ded4198b-2e26-4d96-f756-b47afb283232"
      },
      "execution_count": null,
      "outputs": [
        {
          "output_type": "stream",
          "name": "stdout",
          "text": [
            "Costo de envío promedio - Tienda 1: $26018.61\n",
            "Costo de envío promedio - Tienda 2: $25216.24\n",
            "Costo de envío promedio - Tienda 3: $24805.68\n",
            "Costo de envío promedio - Tienda 4: $23459.46\n"
          ]
        }
      ]
    },
    {
      "cell_type": "markdown",
      "source": [
        "##Gráficas"
      ],
      "metadata": {
        "id": "51ninLojV0ne"
      }
    },
    {
      "cell_type": "code",
      "source": [
        "import matplotlib.pyplot as plt"
      ],
      "metadata": {
        "id": "fxpqA_h4V42b"
      },
      "execution_count": null,
      "outputs": []
    },
    {
      "cell_type": "code",
      "source": [
        "\n",
        "#Gráfico de Ingresos por cada Tienda\n",
        "\n",
        "# Preparar datos para el gráfico circular\n",
        "labels = list(ingresoTotal.keys())\n",
        "sizes = list(ingresoTotal.values())\n",
        "colors = ['#A2B5BF', '#007C91', '#E3E6E8', '#4682B4']  # Colores del grafico\n",
        "# Crear y mandar a mostrar el gráfico\n",
        "plt.figure(figsize=(3, 3))\n",
        "plt.pie(sizes, labels=labels, colors=colors,\n",
        "        autopct='%1.1f%%', startangle=90, shadow=True)\n",
        "plt.title('Ingresos por Tienda', fontsize=14)\n",
        "plt.axis('equal')  # Para que sea perfectamente circular\n",
        "plt.tight_layout()\n",
        "plt.show()\n"
      ],
      "metadata": {
        "colab": {
          "base_uri": "https://localhost:8080/",
          "height": 307
        },
        "id": "1RFq-GFIdlwc",
        "outputId": "8136e848-bf5f-44ed-a1e9-9ec63a67d2ab"
      },
      "execution_count": null,
      "outputs": [
        {
          "output_type": "display_data",
          "data": {
            "text/plain": [
              "<Figure size 300x300 with 1 Axes>"
            ],
            "image/png": "[encoded data removed]"
          },
          "metadata": {}
        }
      ]
    },
    {
      "cell_type": "code",
      "source": [
        "#Gráfico de Costos de Envío por Cada Tienda\n",
        "\n",
        "plt.bar(costoEnvio.keys(), costoEnvio.values(), color=['#6D9DC5', '#8C8C8C', '#A8D08D', '#4E4E4E'])\n",
        "plt.title('Costo Promedio de Envío por Tienda')\n",
        "plt.ylabel('Costo Promedio ($)')\n",
        "plt.grid(axis='y', linestyle='--', alpha=0.1)\n",
        "\n",
        "# Etiquetas con valores\n",
        "for i, (tienda, costo) in enumerate(costoEnvio.items()):\n",
        "    plt.text(i, costo + 300, f\"${costo:,.2f}\", ha='center', fontsize=9)\n",
        "\n",
        "plt.tight_layout()\n",
        "plt.show()"
      ],
      "metadata": {
        "colab": {
          "base_uri": "https://localhost:8080/",
          "height": 487
        },
        "id": "ho5EAqy2ggnM",
        "outputId": "2d689365-746a-4f4f-afb3-805eb8f49d84"
      },
      "execution_count": null,
      "outputs": [
        {
          "output_type": "display_data",
          "data": {
            "text/plain": [
              "<Figure size 640x480 with 1 Axes>"
            ],
            "image/png": "[encoded data removed]"
          },
          "metadata": {}
        }
      ]
    },
    {
      "cell_type": "code",
      "source": [
        "#Gráfica de Calificación de Cada Tienda por Los Clientes\n",
        "\n",
        "plt.barh(list(calificacionesClientes.keys()), list(calificacionesClientes.values()), color=['#6D9DC5', '#A8D08D', '#7D5A50', '#8C8C8C'])\n",
        "plt.xlim(0, 5)\n",
        "plt.title(\"Calificación Promedio por Tienda\")\n",
        "plt.xlabel(\"Estrellas\")\n",
        "\n",
        "for i, cal in enumerate(calificacionesClientes.values()):\n",
        "    plt.text(cal - 0.2, i, f\"{cal:.2f} ★\", va='center', ha='right', color='white')\n",
        "plt.tight_layout()\n",
        "plt.show()"
      ],
      "metadata": {
        "colab": {
          "base_uri": "https://localhost:8080/",
          "height": 487
        },
        "id": "rd41vqrsnlMz",
        "outputId": "a6695e17-42c1-4fec-e8b7-25c974309af6"
      },
      "execution_count": null,
      "outputs": [
        {
          "output_type": "display_data",
          "data": {
            "text/plain": [
              "<Figure size 640x480 with 1 Axes>"
            ],
            "image/png": "[encoded data removed]"
          },
          "metadata": {}
        }
      ]
    },
    {
      "cell_type": "markdown",
      "source": [
        "## 📊 Informe Final\n",
        "### 📝 Introducción\n",
        "\n",
        "El presente informe tiene como objetivo analizar el rendimiento de cuatro tiendas distintas de un mismo dueño el Sr. Juan, para poder recomendarle cuál de ellas debería de cerrar sus labores. Para ello, se han considerado cinco aspectos clave como ser **ingresos totales**, **categorías más populares**, **calificaciones promedio de los clientes**, **productos más y menos vendidos**, y **costo de envío promedio**. El análisis se apoyará en los datos obtenidos mediante procesamiento de información en Python y visualizaciones generadas en Colab, lo que permitirá tomar una decisión basada en evidencia concreta del análisis realizado.\n",
        "\n",
        "---\n",
        "\n",
        "### 📈 Desarrollo del Análisis\n",
        "#### 1. **Ingresos Totales**\n",
        "\n",
        "Ingreso Total por Cada Tienda:\n",
        "\n",
        "Tienda 1: $1,150,880,400.00\n",
        "\n",
        "Tienda 2: $1,116,343,500.00\n",
        "\n",
        "Tienda 3: $1,098,019,600.00\n",
        "\n",
        "Tienda 4: $1,038,375,700.00\n",
        "\n",
        "> *La Tienda 1 genera mayor número de ingresos totales estos de $1,150,880,400.00*\n",
        "\n",
        "> *La Tienda 4 es la que genera menores ingresos estos de $1,038,375,700.00*\n",
        "\n",
        "---\n",
        "#### 2. **Categorías de Productos Más Vendidas**\n",
        "\n",
        "En todas las tiendas, las categorías **Muebles**, **Electrónicos**, **Juguetes** y **Instrumentos Musicales** ocupan los primeros lugares en volumen de ventas, lo que nos indica cuales son las categorias más adquiridas por los clientes, las siguientes categorías más vendidas:\n",
        "\n",
        "- Tienda 3 tuvo el mayor volumen de ventas en **Muebles (499)**.\n",
        "- Tienda 4 destacó en **Juguetes (338)**.\n",
        "- Tienda 1 fue más fuerte en **Electrodomésticos (312)**.\n",
        "- Tienda 2 tuvo ventas mayores en **Instrumentos Musicales (224)**.\n",
        "\n",
        "> *Esta información nos indica que es lo que más adquieren los clientes por ciertas categorías, algo que el Sr. Juan podría aprovechar dependiendo del producto que desea vender para generar un mayor fluctuo de clientes así como mayor ingresos en ventas.*\n",
        "\n",
        "---\n",
        "\n",
        "#### 3. **Calificación Promedio de Clientes**\n",
        "\n",
        "| Tienda  | Calificación Promedio |\n",
        "|---------|------------------------|\n",
        "| Tienda 1 | 3.98 estrellas          |\n",
        "| Tienda 2 | 4.04 estrellas          |\n",
        "| Tienda 3 | 4.05 estrellas ✅        |\n",
        "| Tienda 4 | 4.00 estrellas          |\n",
        "\n",
        "> *La Tienda 3 tiene la calificación más alta, lo cual indica un alto nivel de satisfacción del cliente, y La Tienda 1 tiene la menor calificación de satisfacción del cliente.*\n",
        "\n",
        "---\n",
        "\n",
        "#### 4. **Productos Más y Menos Vendidos**\n",
        "\n",
        "| Tienda  | Producto más vendido     | Ventas | Producto menos vendido        | Ventas |\n",
        "|---------|--------------------------|--------|-------------------------------|--------|\n",
        "| T1      | Microondas               | 60     | Auriculares con micrófono     | 33     |\n",
        "| T2      | Iniciando en programación| 65     | Juego de mesa                 | 32     |\n",
        "| T3      | Kit de bancas            | 57     | Bloques de construcción       | 35     |\n",
        "| T4      | Cama box                 | 62     | Guitarra eléctrica            | 33     |\n",
        "\n",
        "> *Las ventas más altas se concentran en **productos del hogar**, **tecnología** y **mobiliario**. La Tienda 2 destaca con el producto más vendido y menos vendido de todas las tiendas (65 unidades) y (32 unidades) respectivamente.*\n",
        "\n",
        "---\n",
        "\n",
        "#### 5. **Costo de Envío Promedio**\n",
        "\n",
        "Costo de envío promedio:\n",
        "\n",
        "Tienda 1: $26018.61\n",
        "\n",
        "Tienda 2: $25216.24\n",
        "\n",
        "Tienda 3: $24805.68\n",
        "\n",
        "Tienda 4: $23459.46\n",
        "\n",
        "> *La Tienda 1 tiene el costo de envío más alto. La Tienda 4 tiene el costo de envío más bajo, lo que puede ser una ventaja competitiva.*\n",
        "\n",
        "---\n",
        "\n",
        "### ✅ **Conclusión y Recomendación Final**\n",
        "\n",
        "Al analizar los datos, se recomienda al **Sr. Juan** vender **La Tienda 4**, por las siguientes razones:\n",
        "\n",
        "- Tiene los ingresos mas bajos notablemente de las demás tiendas.\n",
        "- Tiene **una calificación promedio (4.00 estrellas)**, no tan destacada.\n",
        "- No lidera en ninguna categoría clave de las demas tiendas.\n",
        "- Aunque tenga un costo der envío mas bajo de las demas tiendas, esto no compesa tanto que tenga los ingresos mas bajos.\n",
        "\n",
        "---\n",
        "\n",
        "### Recomendaciones Adicionales\n",
        "\n",
        "- Se recomienda investigar el porque La Tienda 1 tiene la menor calificación de satisfacción por el cliente, ya que esto puede perjudicar la imagen de la tiendas para sus actuales y futuros clientes.\n",
        "- Capacitar al personal de La Tienda 1 en temas de servicio al cliente para poder aumnetar la calificación de satisfacción por el cliente, ya que esto puede ser un punto clave para aumentar las ventas, así como los ingresos de la misma.\n",
        "- Considerar campañas publicitarias en las tiendas para maximizar la visibilidad y atraer la mayor cantidad de clientes posibles.\n",
        "\n",
        "---"
      ],
      "metadata": {
        "id": "o4xpPSvW9QkS"
      }
    }
  ]
}